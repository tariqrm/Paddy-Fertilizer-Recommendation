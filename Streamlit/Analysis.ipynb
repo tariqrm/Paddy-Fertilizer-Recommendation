{
 "cells": [
  {
   "cell_type": "code",
   "execution_count": 12,
   "id": "2a0a8eee-0c55-4742-9ca9-d726e1454756",
   "metadata": {},
   "outputs": [],
   "source": [
    "import pandas as pd\n",
    "import folium\n",
    "from branca.colormap import LinearColormap\n",
    "from shapely.geometry import Polygon, Point\n",
    "import matplotlib.pyplot as plt\n",
    "import numpy as np\n",
    "from matplotlib.colors import LinearSegmentedColormap"
   ]
  },
  {
   "cell_type": "code",
   "execution_count": 13,
   "id": "4c87a8d6-cb73-4bb4-b2b1-ee913ab817ba",
   "metadata": {},
   "outputs": [],
   "source": [
    "# Load the fertilizer schedule\n",
    "fertilizer_schedule_df = pd.read_csv('Fertilizer_Schedule.csv')\n",
    "# File paths for the Excel files\n",
    "uploaded_file = 'dataset1/dataset.xlsx'  # Replace with the actual file path\n",
    "corners_file = 'dataset1/boundary.xlsx'  # Replace with the actual file path"
   ]
  },
  {
   "cell_type": "code",
   "execution_count": 20,
   "id": "9848d065-5a8c-4fdc-8dd2-8aaaba09d91b",
   "metadata": {},
   "outputs": [
    {
     "name": "stdout",
     "output_type": "stream",
     "text": [
      "Data Table\n",
      "    Latitude  Longitude  Moisture (%)  Temperature (C)  EC (us/cm)   Ph  \\\n",
      "0   6.973684  79.942889          19.5             32.8         219  7.1   \n",
      "1   6.973782  79.942948          16.9             32.8         218  7.9   \n",
      "2   6.973881  79.943008          17.9             32.7         214  7.4   \n",
      "3   6.973541  79.943025          16.4             32.6         220  7.4   \n",
      "4   6.973640  79.943084          12.7             32.6          95  7.6   \n",
      "5   6.973739  79.943144           9.5             33.0         101  7.3   \n",
      "6   6.973838  79.943203           9.1             32.9         195  7.7   \n",
      "7   6.973937  79.943262           3.1             32.8         117  6.3   \n",
      "8   6.973597  79.943280           6.4             32.0         106  8.3   \n",
      "9   6.973695  79.943339          19.5             32.8         219  7.1   \n",
      "10  6.973794  79.943398          16.9             32.8         218  7.9   \n",
      "11  6.973893  79.943458          17.9             32.7         214  7.4   \n",
      "12  6.973992  79.943517          16.4             32.6         220  7.4   \n",
      "13  6.973652  79.943534          12.7             32.6          95  7.6   \n",
      "14  6.974091  79.943577           9.5             33.0         101  7.3   \n",
      "15  6.973751  79.943594           9.1             32.9         195  7.7   \n",
      "16  6.973850  79.943653           3.1             32.8         117  6.3   \n",
      "17  6.973948  79.943713           6.4             32.0         106  8.3   \n",
      "18  6.974047  79.943772          19.5             32.8         219  7.1   \n",
      "19  6.974146  79.943831          16.9             32.8         218  7.9   \n",
      "20  6.973806  79.943849          17.9             32.7         214  7.4   \n",
      "21  6.973905  79.943908          16.4             32.6         220  7.4   \n",
      "22  6.974004  79.943967          12.7             32.6          95  7.6   \n",
      "23  6.974103  79.944027           9.5             33.0         101  7.3   \n",
      "24  6.974201  79.944086           9.1             32.9         195  7.7   \n",
      "\n",
      "    Nitrogen (mg/kg)  Posphorous (mg/kg)  Potassium (mg/kg)  \n",
      "0                 19                 130                115  \n",
      "1                 23                 130                119  \n",
      "2                 17                 125                110  \n",
      "3                  5                  25                113  \n",
      "4                  7                 117                116  \n",
      "5                 12                 106                107  \n",
      "6                  9                 107                 92  \n",
      "7                  9                 106                 91  \n",
      "8                 14                 145                130  \n",
      "9                 19                 130                115  \n",
      "10                23                 130                119  \n",
      "11                17                 125                110  \n",
      "12                 5                  25                113  \n",
      "13                 7                 117                116  \n",
      "14                12                 106                107  \n",
      "15                 9                 107                 92  \n",
      "16                 9                 106                 91  \n",
      "17                14                 145                130  \n",
      "18                19                 130                115  \n",
      "19                23                 130                119  \n",
      "20                17                 125                110  \n",
      "21                 5                  25                113  \n",
      "22                 7                 117                116  \n",
      "23                12                 106                107  \n",
      "24                 9                 107                 92  \n"
     ]
    }
   ],
   "source": [
    "# Read the uploaded files into DataFrames\n",
    "df = pd.read_excel(uploaded_file)\n",
    "corners_df = pd.read_excel(corners_file)\n",
    "\n",
    "# Display the data in a table\n",
    "print('Data Table')\n",
    "print(df)"
   ]
  },
  {
   "cell_type": "code",
   "execution_count": 21,
   "id": "b5db6f03-3313-4885-afc7-74ac254d67fa",
   "metadata": {},
   "outputs": [
    {
     "name": "stdout",
     "output_type": "stream",
     "text": [
      "Soil Data Insights\n",
      "                          Mean         Max        Min    Std Dev  Count\n",
      "Latitude              6.973861    6.974201   6.973541   0.000178     25\n",
      "Longitude            79.943483   79.944086  79.942889   0.000357     25\n",
      "Moisture (%)         13.000000   19.500000   3.100000   5.183628     25\n",
      "Temperature (C)      32.712000   33.000000  32.000000   0.250533     25\n",
      "EC (us/cm)          169.280000  220.000000  95.000000  55.622627     25\n",
      "Ph                    7.456000    8.300000   6.300000   0.474412     25\n",
      "Nitrogen (mg/kg)     12.880000   23.000000   5.000000   5.918333     25\n",
      "Posphorous (mg/kg)  108.880000  145.000000  25.000000  33.802515     25\n",
      "Potassium (mg/kg)   110.320000  130.000000  91.000000  11.126994     25\n"
     ]
    }
   ],
   "source": [
    "# Provide detailed insights on the soil data\n",
    "print('Soil Data Insights')\n",
    "summary_df = pd.DataFrame({\n",
    "    'Mean': df.mean(),\n",
    "    'Max': df.max(),\n",
    "    'Min': df.min(),\n",
    "    'Std Dev': df.std(),\n",
    "    'Count': df.count()\n",
    "})\n",
    "print(summary_df)"
   ]
  },
  {
   "cell_type": "code",
   "execution_count": 15,
   "id": "7cab01e5-9d32-4f68-9c48-abddc029c218",
   "metadata": {},
   "outputs": [
    {
     "name": "stdout",
     "output_type": "stream",
     "text": [
      "Area of the land: 6778.46 square meters\n",
      "Area of the land: 1.67 acres\n"
     ]
    }
   ],
   "source": [
    "# Extract coordinates\n",
    "coordinates = [tuple(map(float, corner.split(','))) for corner in corners_df['Corners']]\n",
    "\n",
    "# Ensure the first and last points are the same to form a closed boundary\n",
    "if coordinates[0] != coordinates[-1]:\n",
    "    coordinates.append(coordinates[0])\n",
    "\n",
    "# Calculate the area of the land\n",
    "polygon = Polygon(coordinates)\n",
    "area_sq_meters = polygon.area * (111320 ** 2)  # approximate conversion from degrees to meters squared\n",
    "area_acres = area_sq_meters * 0.000247105  # conversion from square meters to acres\n",
    "\n",
    "print(f\"Area of the land: {area_sq_meters:.2f} square meters\")\n",
    "print(f\"Area of the land: {area_acres:.2f} acres\")"
   ]
  },
  {
   "cell_type": "code",
   "execution_count": 16,
   "id": "cc4595b0-1c82-4d5b-91f3-3b20275ccd6a",
   "metadata": {},
   "outputs": [],
   "source": [
    "# Function to map values to colors\n",
    "def get_color(value, min_val, max_val):\n",
    "    colormap = LinearColormap(colors=['blue', 'lime', 'red'], vmin=min_val, vmax=max_val)\n",
    "    return colormap(value)"
   ]
  },
  {
   "cell_type": "code",
   "execution_count": 17,
   "id": "7fdcafb7-bd2d-4c5b-9cab-41d8b8023b14",
   "metadata": {},
   "outputs": [
    {
     "name": "stdout",
     "output_type": "stream",
     "text": [
      "Map saved as 'map.html'\n"
     ]
    }
   ],
   "source": [
    "# Select parameter to visualize on the map\n",
    "parameter = 'Nitrogen (mg/kg)'  # You can change this to any parameter you want to visualize\n",
    "\n",
    "min_val = df[parameter].min()\n",
    "max_val = df[parameter].max()\n",
    "\n",
    "# Create a Folium map centered around the first point\n",
    "m = folium.Map(location=[coordinates[0][0], coordinates[0][1]], zoom_start=17)\n",
    "\n",
    "# Add points to the map with color intensity based on the selected parameter\n",
    "for _, row in df.iterrows():\n",
    "    color = get_color(row[parameter], min_val, max_val)\n",
    "    folium.CircleMarker(\n",
    "        location=[row['Latitude'], row['Longitude']],\n",
    "        radius=8,\n",
    "        color=color,\n",
    "        fill=True,\n",
    "        fill_color=color,\n",
    "        fill_opacity=0.7,\n",
    "        popup=f\"{parameter}: {row[parameter]}\"\n",
    "    ).add_to(m)\n",
    "\n",
    "# Add a line to the map to mark the boundary of the land\n",
    "folium.PolyLine(locations=coordinates, color='blue', weight=2.5, opacity=1).add_to(m)\n",
    "\n",
    "# Display the map\n",
    "m.save('map.html')\n",
    "print(\"Map saved as 'map.html'\")"
   ]
  },
  {
   "cell_type": "code",
   "execution_count": 18,
   "id": "496eb7f4-6010-472c-b7d3-459133f6b95d",
   "metadata": {},
   "outputs": [
    {
     "name": "stdout",
     "output_type": "stream",
     "text": [
      "Nutrient Distribution Profile\n"
     ]
    },
    {
     "data": {
      "image/png": "[encoded data removed]",
      "text/plain": [
       "<Figure size 640x480 with 2 Axes>"
      ]
     },
     "metadata": {},
     "output_type": "display_data"
    },
    {
     "name": "stdout",
     "output_type": "stream",
     "text": [
      "Fertilizer Recommendation\n"
     ]
    }
   ],
   "source": [
    "# Interpolation\n",
    "print('Nutrient Distribution Profile')\n",
    "\n",
    "# Define grid within the bounding box of the polygon\n",
    "min_lat, min_lon, max_lat, max_lon = polygon.bounds\n",
    "grid_x, grid_y = np.mgrid[min_lat:max_lat:100j, min_lon:max_lon:100j]\n",
    "\n",
    "def idw(x, y, z, xi, yi, power=2):\n",
    "    dist = np.sqrt((x[:, None, None] - xi[None, :, :])**2 + (y[:, None, None] - yi[None, :, :])**2)\n",
    "    weights = 1 / (dist**power)\n",
    "    weights[dist == 0] = np.inf  # Handle zero distance (to avoid division by zero)\n",
    "    z_idw = np.sum(weights * z[:, None, None], axis=0) / np.sum(weights, axis=0)\n",
    "    return z_idw\n",
    "\n",
    "# Perform IDW interpolation\n",
    "x = df['Latitude'].values\n",
    "y = df['Longitude'].values\n",
    "z = df[parameter].values\n",
    "grid_z_idw = idw(x, y, z, grid_x, grid_y)\n",
    "\n",
    "# Mask the grid outside the polygon\n",
    "mask = np.array([Point(x, y).within(polygon) for x, y in zip(grid_x.flatten(), grid_y.flatten())])\n",
    "grid_z_idw = np.ma.masked_array(grid_z_idw, ~mask.reshape(grid_z_idw.shape))\n",
    "\n",
    "# Plot the interpolated data\n",
    "fig, ax = plt.subplots()\n",
    "cmap = LinearSegmentedColormap.from_list(\"mycmap\", ['blue', 'lime', 'red'])\n",
    "contour = ax.contourf(grid_y, grid_x, grid_z_idw, cmap=cmap, levels=100)  # Swap grid_x and grid_y for correct orientation\n",
    "plt.colorbar(contour, ax=ax, label=parameter)\n",
    "ax.set_title(f'{parameter} Distribution')\n",
    "ax.set_xlabel('Longitude')\n",
    "ax.set_ylabel('Latitude')\n",
    "ax.set_aspect('equal', 'box')\n",
    "plt.show()\n",
    "\n",
    "# Fertilizer recommendation\n",
    "print('Fertilizer Recommendation')\n",
    "\n",
    "# Select crop age group and time period\n",
    "age_group = 'For 3 Month'  # Change this to the desired age group\n",
    "time_period = '2 Weeks'  # Change this to the desired time period"
   ]
  },
  {
   "cell_type": "code",
   "execution_count": 19,
   "id": "9e4f644e-7c5e-46ef-a7ac-6504f73b50dc",
   "metadata": {},
   "outputs": [
    {
     "name": "stdout",
     "output_type": "stream",
     "text": [
      "Recommended amounts of fertilizers for For 3 Month crops during 2 Weeks:\n",
      "Urea: 50 kg/ha\n",
      "T.S.P: 0 kg/ha\n",
      "M.O.P: 0 kg/ha\n",
      "Additional Urea needed: 22.00 kg/ha\n",
      "Additional T.S.P needed: 0.00 kg/ha\n",
      "Additional M.O.P needed: 0.00 kg/ha\n"
     ]
    }
   ],
   "source": [
    "# Filter the time periods based on the selected age group\n",
    "time_period_options = fertilizer_schedule_df[fertilizer_schedule_df['Age Group'] == age_group]['Time *'].unique()\n",
    "\n",
    "if len(time_period_options) > 0 and time_period in time_period_options:\n",
    "    # Filter the fertilizer schedule based on the selected age group and time period\n",
    "    filtered_schedule = fertilizer_schedule_df[\n",
    "        (fertilizer_schedule_df['Age Group'] == age_group) & (fertilizer_schedule_df['Time *'] == time_period)\n",
    "    ]\n",
    "\n",
    "    # Display the recommended fertilizer amounts\n",
    "    if not filtered_schedule.empty:\n",
    "        urea_required = filtered_schedule['Urea'].values[0]\n",
    "        tsp_required = filtered_schedule['T.S.P'].values[0]\n",
    "        mop_required = filtered_schedule['M.O.P'].values[0]\n",
    "\n",
    "        print(f\"Recommended amounts of fertilizers for {age_group} crops during {time_period}:\")\n",
    "        print(f\"Urea: {urea_required} kg/ha\")\n",
    "        print(f\"T.S.P: {tsp_required} kg/ha\")\n",
    "        print(f\"M.O.P: {mop_required} kg/ha\")\n",
    "\n",
    "        # Calculate the deficit and additional fertilizer needed\n",
    "        def calculate_fertilizer(soil_nutrient, nutrient_threshold, fertilizer_pct):\n",
    "            deficit = nutrient_threshold - soil_nutrient\n",
    "            required_fertilizer = max(deficit / fertilizer_pct, 0)  # Ensure no negative values\n",
    "            return required_fertilizer\n",
    "\n",
    "        nitrogen_threshold = urea_required * 0.46  # Assuming Urea is 46% Nitrogen\n",
    "        phosphorous_threshold = tsp_required * 0.20  # Assuming T.S.P is 20% Phosphorous\n",
    "        potassium_threshold = mop_required * 0.50  # Assuming M.O.P is 50% Potassium\n",
    "\n",
    "        soil_nitrogen = df['Nitrogen (mg/kg)'].mean()\n",
    "        soil_phosphorous = df['Posphorous (mg/kg)'].mean()\n",
    "        soil_potassium = df['Potassium (mg/kg)'].mean()\n",
    "\n",
    "        urea_needed = calculate_fertilizer(soil_nitrogen, nitrogen_threshold, 0.46)\n",
    "        tsp_needed = calculate_fertilizer(soil_phosphorous, phosphorous_threshold, 0.20)\n",
    "        mop_needed = calculate_fertilizer(soil_potassium, potassium_threshold, 0.50)\n",
    "\n",
    "        print(f\"Additional Urea needed: {urea_needed:.2f} kg/ha\")\n",
    "        print(f\"Additional T.S.P needed: {tsp_needed:.2f} kg/ha\")\n",
    "        print(f\"Additional M.O.P needed: {mop_needed:.2f} kg/ha\")\n",
    "    else:\n",
    "        print(\"No data available for the selected age group and time period.\")\n",
    "else:\n",
    "    print(\"No time periods available for the selected age group.\")\n"
   ]
  }
 ],
 "metadata": {
  "kernelspec": {
   "display_name": "Python 3 (ipykernel)",
   "language": "python",
   "name": "python3"
  },
  "language_info": {
   "codemirror_mode": {
    "name": "ipython",
    "version": 3
   },
   "file_extension": ".py",
   "mimetype": "text/x-python",
   "name": "python",
   "nbconvert_exporter": "python",
   "pygments_lexer": "ipython3",
   "version": "3.12.3"
  }
 },
 "nbformat": 4,
 "nbformat_minor": 5
}
